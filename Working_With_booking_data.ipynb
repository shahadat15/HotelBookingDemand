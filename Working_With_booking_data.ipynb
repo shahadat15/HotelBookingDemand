{
 "cells": [
  {
   "cell_type": "markdown",
   "metadata": {},
   "source": [
    "#  Hotel Demand and Customer Characteristics Prediction\n"
   ]
  },
  {
   "cell_type": "markdown",
   "metadata": {},
   "source": [
    "## Justification for your project:\n",
    "\n",
    "- Customer demand and characteristics prediction is an important factor for any business prospect. \n",
    "- If any business can predict the future demand of their product then they can prepare accordingly to serve the future demand and allocate their resource wisely. \n",
    "- This project focus on develop some prediction model on customer demand based on available dataset. \n",
    "- This prediction will help the service provider company to efficiently plan for their services. \n",
    "- This will increase their service reliability and profit. \n"
   ]
  },
  {
   "cell_type": "markdown",
   "metadata": {},
   "source": [
    "## End User of the Project\n",
    "- Different tourism and travel industries which focus on hospitality, cruising, theme parks, airlines would be the end user of such project. \n",
    "- This product will help them to predict the future demand based on booking, time of year, and demographic and socioeconomic characteristics of the tourists. \n",
    "- This prediction will help them to manage their resources efficiently thus increase the profit. \n"
   ]
  },
  {
   "cell_type": "markdown",
   "metadata": {},
   "source": [
    "## Minimum Requirements\n",
    "\n",
    "To solve the problem, at least one year of data is required. More data could effectively increase the model performance. A user friendly tool can be built within 8 weeks."
   ]
  },
  {
   "cell_type": "markdown",
   "metadata": {},
   "source": [
    "## Data Availability\n",
    "\n",
    "Hotel Booking demand dataset published by the Instituto Universitário de Lisboa could be used in this project as a case study. But each industry could prepare their own tool based on their data. \n"
   ]
  },
  {
   "cell_type": "markdown",
   "metadata": {},
   "source": [
    "## Competition\n",
    "If similar solution is already exist then the new tool will aim to increase the accuracy, reliability of the existing solution. "
   ]
  },
  {
   "cell_type": "markdown",
   "metadata": {},
   "source": [
    "## Impact\n",
    "- To validate the success of this project a cost-benefit analysis will be performed to get the actual dollar benefit for using the new tool. \n",
    "- If the accuracy is increased by 10% then the model can accurately predict 10% more cases thus save more money. \n",
    "- Standard cost-benefit analysis will provide to contextualize the effect of the improvement.\n"
   ]
  },
  {
   "cell_type": "markdown",
   "metadata": {},
   "source": [
    "# Sample Analysis"
   ]
  },
  {
   "cell_type": "code",
   "execution_count": 156,
   "metadata": {},
   "outputs": [],
   "source": [
    "## Load the required packages\n",
    "import pandas as pd\n",
    "import matplotlib.pyplot as plt"
   ]
  },
  {
   "cell_type": "code",
   "execution_count": 157,
   "metadata": {},
   "outputs": [],
   "source": [
    "# load the data\n",
    "d = pd.read_csv(\"H1.csv\")"
   ]
  },
  {
   "cell_type": "code",
   "execution_count": 158,
   "metadata": {},
   "outputs": [
    {
     "data": {
      "text/html": [
       "<div>\n",
       "<style scoped>\n",
       "    .dataframe tbody tr th:only-of-type {\n",
       "        vertical-align: middle;\n",
       "    }\n",
       "\n",
       "    .dataframe tbody tr th {\n",
       "        vertical-align: top;\n",
       "    }\n",
       "\n",
       "    .dataframe thead th {\n",
       "        text-align: right;\n",
       "    }\n",
       "</style>\n",
       "<table border=\"1\" class=\"dataframe\">\n",
       "  <thead>\n",
       "    <tr style=\"text-align: right;\">\n",
       "      <th></th>\n",
       "      <th>IsCanceled</th>\n",
       "      <th>LeadTime</th>\n",
       "      <th>ArrivalDateYear</th>\n",
       "      <th>ArrivalDateMonth</th>\n",
       "      <th>ArrivalDateWeekNumber</th>\n",
       "      <th>ArrivalDateDayOfMonth</th>\n",
       "      <th>StaysInWeekendNights</th>\n",
       "      <th>StaysInWeekNights</th>\n",
       "      <th>Adults</th>\n",
       "      <th>Children</th>\n",
       "      <th>...</th>\n",
       "      <th>DepositType</th>\n",
       "      <th>Agent</th>\n",
       "      <th>Company</th>\n",
       "      <th>DaysInWaitingList</th>\n",
       "      <th>CustomerType</th>\n",
       "      <th>ADR</th>\n",
       "      <th>RequiredCarParkingSpaces</th>\n",
       "      <th>TotalOfSpecialRequests</th>\n",
       "      <th>ReservationStatus</th>\n",
       "      <th>ReservationStatusDate</th>\n",
       "    </tr>\n",
       "  </thead>\n",
       "  <tbody>\n",
       "    <tr>\n",
       "      <td>0</td>\n",
       "      <td>0</td>\n",
       "      <td>342</td>\n",
       "      <td>2015</td>\n",
       "      <td>July</td>\n",
       "      <td>27</td>\n",
       "      <td>1</td>\n",
       "      <td>0</td>\n",
       "      <td>0</td>\n",
       "      <td>2</td>\n",
       "      <td>0</td>\n",
       "      <td>...</td>\n",
       "      <td>No Deposit</td>\n",
       "      <td>NULL</td>\n",
       "      <td>NULL</td>\n",
       "      <td>0</td>\n",
       "      <td>Transient</td>\n",
       "      <td>0.0</td>\n",
       "      <td>0</td>\n",
       "      <td>0</td>\n",
       "      <td>Check-Out</td>\n",
       "      <td>2015-07-01</td>\n",
       "    </tr>\n",
       "    <tr>\n",
       "      <td>1</td>\n",
       "      <td>0</td>\n",
       "      <td>737</td>\n",
       "      <td>2015</td>\n",
       "      <td>July</td>\n",
       "      <td>27</td>\n",
       "      <td>1</td>\n",
       "      <td>0</td>\n",
       "      <td>0</td>\n",
       "      <td>2</td>\n",
       "      <td>0</td>\n",
       "      <td>...</td>\n",
       "      <td>No Deposit</td>\n",
       "      <td>NULL</td>\n",
       "      <td>NULL</td>\n",
       "      <td>0</td>\n",
       "      <td>Transient</td>\n",
       "      <td>0.0</td>\n",
       "      <td>0</td>\n",
       "      <td>0</td>\n",
       "      <td>Check-Out</td>\n",
       "      <td>2015-07-01</td>\n",
       "    </tr>\n",
       "    <tr>\n",
       "      <td>2</td>\n",
       "      <td>0</td>\n",
       "      <td>7</td>\n",
       "      <td>2015</td>\n",
       "      <td>July</td>\n",
       "      <td>27</td>\n",
       "      <td>1</td>\n",
       "      <td>0</td>\n",
       "      <td>1</td>\n",
       "      <td>1</td>\n",
       "      <td>0</td>\n",
       "      <td>...</td>\n",
       "      <td>No Deposit</td>\n",
       "      <td>NULL</td>\n",
       "      <td>NULL</td>\n",
       "      <td>0</td>\n",
       "      <td>Transient</td>\n",
       "      <td>75.0</td>\n",
       "      <td>0</td>\n",
       "      <td>0</td>\n",
       "      <td>Check-Out</td>\n",
       "      <td>2015-07-02</td>\n",
       "    </tr>\n",
       "    <tr>\n",
       "      <td>3</td>\n",
       "      <td>0</td>\n",
       "      <td>13</td>\n",
       "      <td>2015</td>\n",
       "      <td>July</td>\n",
       "      <td>27</td>\n",
       "      <td>1</td>\n",
       "      <td>0</td>\n",
       "      <td>1</td>\n",
       "      <td>1</td>\n",
       "      <td>0</td>\n",
       "      <td>...</td>\n",
       "      <td>No Deposit</td>\n",
       "      <td>304</td>\n",
       "      <td>NULL</td>\n",
       "      <td>0</td>\n",
       "      <td>Transient</td>\n",
       "      <td>75.0</td>\n",
       "      <td>0</td>\n",
       "      <td>0</td>\n",
       "      <td>Check-Out</td>\n",
       "      <td>2015-07-02</td>\n",
       "    </tr>\n",
       "    <tr>\n",
       "      <td>4</td>\n",
       "      <td>0</td>\n",
       "      <td>14</td>\n",
       "      <td>2015</td>\n",
       "      <td>July</td>\n",
       "      <td>27</td>\n",
       "      <td>1</td>\n",
       "      <td>0</td>\n",
       "      <td>2</td>\n",
       "      <td>2</td>\n",
       "      <td>0</td>\n",
       "      <td>...</td>\n",
       "      <td>No Deposit</td>\n",
       "      <td>240</td>\n",
       "      <td>NULL</td>\n",
       "      <td>0</td>\n",
       "      <td>Transient</td>\n",
       "      <td>98.0</td>\n",
       "      <td>0</td>\n",
       "      <td>1</td>\n",
       "      <td>Check-Out</td>\n",
       "      <td>2015-07-03</td>\n",
       "    </tr>\n",
       "  </tbody>\n",
       "</table>\n",
       "<p>5 rows × 31 columns</p>\n",
       "</div>"
      ],
      "text/plain": [
       "   IsCanceled  LeadTime  ArrivalDateYear ArrivalDateMonth  \\\n",
       "0           0       342             2015             July   \n",
       "1           0       737             2015             July   \n",
       "2           0         7             2015             July   \n",
       "3           0        13             2015             July   \n",
       "4           0        14             2015             July   \n",
       "\n",
       "   ArrivalDateWeekNumber  ArrivalDateDayOfMonth  StaysInWeekendNights  \\\n",
       "0                     27                      1                     0   \n",
       "1                     27                      1                     0   \n",
       "2                     27                      1                     0   \n",
       "3                     27                      1                     0   \n",
       "4                     27                      1                     0   \n",
       "\n",
       "   StaysInWeekNights  Adults  Children  ...      DepositType        Agent  \\\n",
       "0                  0       2         0  ...  No Deposit              NULL   \n",
       "1                  0       2         0  ...  No Deposit              NULL   \n",
       "2                  1       1         0  ...  No Deposit              NULL   \n",
       "3                  1       1         0  ...  No Deposit               304   \n",
       "4                  2       2         0  ...  No Deposit               240   \n",
       "\n",
       "       Company DaysInWaitingList CustomerType   ADR  RequiredCarParkingSpaces  \\\n",
       "0         NULL                 0    Transient   0.0                         0   \n",
       "1         NULL                 0    Transient   0.0                         0   \n",
       "2         NULL                 0    Transient  75.0                         0   \n",
       "3         NULL                 0    Transient  75.0                         0   \n",
       "4         NULL                 0    Transient  98.0                         0   \n",
       "\n",
       "   TotalOfSpecialRequests ReservationStatus ReservationStatusDate  \n",
       "0                       0         Check-Out            2015-07-01  \n",
       "1                       0         Check-Out            2015-07-01  \n",
       "2                       0         Check-Out            2015-07-02  \n",
       "3                       0         Check-Out            2015-07-02  \n",
       "4                       1         Check-Out            2015-07-03  \n",
       "\n",
       "[5 rows x 31 columns]"
      ]
     },
     "execution_count": 158,
     "metadata": {},
     "output_type": "execute_result"
    }
   ],
   "source": [
    "## Lests have a quick look on the daataset\n",
    "d.head()"
   ]
  },
  {
   "cell_type": "code",
   "execution_count": 159,
   "metadata": {},
   "outputs": [
    {
     "data": {
      "text/plain": [
       "Index(['IsCanceled', 'LeadTime', 'ArrivalDateYear', 'ArrivalDateMonth',\n",
       "       'ArrivalDateWeekNumber', 'ArrivalDateDayOfMonth',\n",
       "       'StaysInWeekendNights', 'StaysInWeekNights', 'Adults', 'Children',\n",
       "       'Babies', 'Meal', 'Country', 'MarketSegment', 'DistributionChannel',\n",
       "       'IsRepeatedGuest', 'PreviousCancellations',\n",
       "       'PreviousBookingsNotCanceled', 'ReservedRoomType', 'AssignedRoomType',\n",
       "       'BookingChanges', 'DepositType', 'Agent', 'Company',\n",
       "       'DaysInWaitingList', 'CustomerType', 'ADR', 'RequiredCarParkingSpaces',\n",
       "       'TotalOfSpecialRequests', 'ReservationStatus', 'ReservationStatusDate'],\n",
       "      dtype='object')"
      ]
     },
     "execution_count": 159,
     "metadata": {},
     "output_type": "execute_result"
    }
   ],
   "source": [
    "## Let's see the columns names\n",
    "d.columns"
   ]
  },
  {
   "cell_type": "code",
   "execution_count": 160,
   "metadata": {},
   "outputs": [
    {
     "data": {
      "text/html": [
       "<div>\n",
       "<style scoped>\n",
       "    .dataframe tbody tr th:only-of-type {\n",
       "        vertical-align: middle;\n",
       "    }\n",
       "\n",
       "    .dataframe tbody tr th {\n",
       "        vertical-align: top;\n",
       "    }\n",
       "\n",
       "    .dataframe thead th {\n",
       "        text-align: right;\n",
       "    }\n",
       "</style>\n",
       "<table border=\"1\" class=\"dataframe\">\n",
       "  <thead>\n",
       "    <tr style=\"text-align: right;\">\n",
       "      <th></th>\n",
       "      <th>IsCanceled</th>\n",
       "      <th>LeadTime</th>\n",
       "      <th>ArrivalDateYear</th>\n",
       "      <th>ArrivalDateWeekNumber</th>\n",
       "      <th>ArrivalDateDayOfMonth</th>\n",
       "      <th>StaysInWeekendNights</th>\n",
       "      <th>StaysInWeekNights</th>\n",
       "      <th>Adults</th>\n",
       "      <th>Children</th>\n",
       "      <th>Babies</th>\n",
       "      <th>IsRepeatedGuest</th>\n",
       "      <th>PreviousCancellations</th>\n",
       "      <th>PreviousBookingsNotCanceled</th>\n",
       "      <th>BookingChanges</th>\n",
       "      <th>DaysInWaitingList</th>\n",
       "      <th>ADR</th>\n",
       "      <th>RequiredCarParkingSpaces</th>\n",
       "      <th>TotalOfSpecialRequests</th>\n",
       "    </tr>\n",
       "  </thead>\n",
       "  <tbody>\n",
       "    <tr>\n",
       "      <td>count</td>\n",
       "      <td>40060.000000</td>\n",
       "      <td>40060.000000</td>\n",
       "      <td>40060.000000</td>\n",
       "      <td>40060.000000</td>\n",
       "      <td>40060.000000</td>\n",
       "      <td>40060.000000</td>\n",
       "      <td>40060.000000</td>\n",
       "      <td>40060.000000</td>\n",
       "      <td>40060.000000</td>\n",
       "      <td>40060.000000</td>\n",
       "      <td>40060.000000</td>\n",
       "      <td>40060.000000</td>\n",
       "      <td>40060.000000</td>\n",
       "      <td>40060.000000</td>\n",
       "      <td>40060.000000</td>\n",
       "      <td>40060.000000</td>\n",
       "      <td>40060.000000</td>\n",
       "      <td>40060.00000</td>\n",
       "    </tr>\n",
       "    <tr>\n",
       "      <td>mean</td>\n",
       "      <td>0.277634</td>\n",
       "      <td>92.675686</td>\n",
       "      <td>2016.121443</td>\n",
       "      <td>27.140864</td>\n",
       "      <td>15.821243</td>\n",
       "      <td>1.189815</td>\n",
       "      <td>3.128732</td>\n",
       "      <td>1.867149</td>\n",
       "      <td>0.128682</td>\n",
       "      <td>0.013904</td>\n",
       "      <td>0.044383</td>\n",
       "      <td>0.101722</td>\n",
       "      <td>0.146455</td>\n",
       "      <td>0.287968</td>\n",
       "      <td>0.527758</td>\n",
       "      <td>94.952930</td>\n",
       "      <td>0.138068</td>\n",
       "      <td>0.61977</td>\n",
       "    </tr>\n",
       "    <tr>\n",
       "      <td>std</td>\n",
       "      <td>0.447837</td>\n",
       "      <td>97.285315</td>\n",
       "      <td>0.722347</td>\n",
       "      <td>14.005441</td>\n",
       "      <td>8.883708</td>\n",
       "      <td>1.147812</td>\n",
       "      <td>2.461329</td>\n",
       "      <td>0.697285</td>\n",
       "      <td>0.445195</td>\n",
       "      <td>0.118998</td>\n",
       "      <td>0.205948</td>\n",
       "      <td>1.335115</td>\n",
       "      <td>1.001955</td>\n",
       "      <td>0.726548</td>\n",
       "      <td>7.428580</td>\n",
       "      <td>61.442418</td>\n",
       "      <td>0.351001</td>\n",
       "      <td>0.81393</td>\n",
       "    </tr>\n",
       "    <tr>\n",
       "      <td>min</td>\n",
       "      <td>0.000000</td>\n",
       "      <td>0.000000</td>\n",
       "      <td>2015.000000</td>\n",
       "      <td>1.000000</td>\n",
       "      <td>1.000000</td>\n",
       "      <td>0.000000</td>\n",
       "      <td>0.000000</td>\n",
       "      <td>0.000000</td>\n",
       "      <td>0.000000</td>\n",
       "      <td>0.000000</td>\n",
       "      <td>0.000000</td>\n",
       "      <td>0.000000</td>\n",
       "      <td>0.000000</td>\n",
       "      <td>0.000000</td>\n",
       "      <td>0.000000</td>\n",
       "      <td>-6.380000</td>\n",
       "      <td>0.000000</td>\n",
       "      <td>0.00000</td>\n",
       "    </tr>\n",
       "    <tr>\n",
       "      <td>25%</td>\n",
       "      <td>0.000000</td>\n",
       "      <td>10.000000</td>\n",
       "      <td>2016.000000</td>\n",
       "      <td>16.000000</td>\n",
       "      <td>8.000000</td>\n",
       "      <td>0.000000</td>\n",
       "      <td>1.000000</td>\n",
       "      <td>2.000000</td>\n",
       "      <td>0.000000</td>\n",
       "      <td>0.000000</td>\n",
       "      <td>0.000000</td>\n",
       "      <td>0.000000</td>\n",
       "      <td>0.000000</td>\n",
       "      <td>0.000000</td>\n",
       "      <td>0.000000</td>\n",
       "      <td>50.000000</td>\n",
       "      <td>0.000000</td>\n",
       "      <td>0.00000</td>\n",
       "    </tr>\n",
       "    <tr>\n",
       "      <td>50%</td>\n",
       "      <td>0.000000</td>\n",
       "      <td>57.000000</td>\n",
       "      <td>2016.000000</td>\n",
       "      <td>28.000000</td>\n",
       "      <td>16.000000</td>\n",
       "      <td>1.000000</td>\n",
       "      <td>3.000000</td>\n",
       "      <td>2.000000</td>\n",
       "      <td>0.000000</td>\n",
       "      <td>0.000000</td>\n",
       "      <td>0.000000</td>\n",
       "      <td>0.000000</td>\n",
       "      <td>0.000000</td>\n",
       "      <td>0.000000</td>\n",
       "      <td>0.000000</td>\n",
       "      <td>75.000000</td>\n",
       "      <td>0.000000</td>\n",
       "      <td>0.00000</td>\n",
       "    </tr>\n",
       "    <tr>\n",
       "      <td>75%</td>\n",
       "      <td>1.000000</td>\n",
       "      <td>155.000000</td>\n",
       "      <td>2017.000000</td>\n",
       "      <td>38.000000</td>\n",
       "      <td>24.000000</td>\n",
       "      <td>2.000000</td>\n",
       "      <td>5.000000</td>\n",
       "      <td>2.000000</td>\n",
       "      <td>0.000000</td>\n",
       "      <td>0.000000</td>\n",
       "      <td>0.000000</td>\n",
       "      <td>0.000000</td>\n",
       "      <td>0.000000</td>\n",
       "      <td>0.000000</td>\n",
       "      <td>0.000000</td>\n",
       "      <td>125.000000</td>\n",
       "      <td>0.000000</td>\n",
       "      <td>1.00000</td>\n",
       "    </tr>\n",
       "    <tr>\n",
       "      <td>max</td>\n",
       "      <td>1.000000</td>\n",
       "      <td>737.000000</td>\n",
       "      <td>2017.000000</td>\n",
       "      <td>53.000000</td>\n",
       "      <td>31.000000</td>\n",
       "      <td>19.000000</td>\n",
       "      <td>50.000000</td>\n",
       "      <td>55.000000</td>\n",
       "      <td>10.000000</td>\n",
       "      <td>2.000000</td>\n",
       "      <td>1.000000</td>\n",
       "      <td>26.000000</td>\n",
       "      <td>30.000000</td>\n",
       "      <td>17.000000</td>\n",
       "      <td>185.000000</td>\n",
       "      <td>508.000000</td>\n",
       "      <td>8.000000</td>\n",
       "      <td>5.00000</td>\n",
       "    </tr>\n",
       "  </tbody>\n",
       "</table>\n",
       "</div>"
      ],
      "text/plain": [
       "         IsCanceled      LeadTime  ArrivalDateYear  ArrivalDateWeekNumber  \\\n",
       "count  40060.000000  40060.000000     40060.000000           40060.000000   \n",
       "mean       0.277634     92.675686      2016.121443              27.140864   \n",
       "std        0.447837     97.285315         0.722347              14.005441   \n",
       "min        0.000000      0.000000      2015.000000               1.000000   \n",
       "25%        0.000000     10.000000      2016.000000              16.000000   \n",
       "50%        0.000000     57.000000      2016.000000              28.000000   \n",
       "75%        1.000000    155.000000      2017.000000              38.000000   \n",
       "max        1.000000    737.000000      2017.000000              53.000000   \n",
       "\n",
       "       ArrivalDateDayOfMonth  StaysInWeekendNights  StaysInWeekNights  \\\n",
       "count           40060.000000          40060.000000       40060.000000   \n",
       "mean               15.821243              1.189815           3.128732   \n",
       "std                 8.883708              1.147812           2.461329   \n",
       "min                 1.000000              0.000000           0.000000   \n",
       "25%                 8.000000              0.000000           1.000000   \n",
       "50%                16.000000              1.000000           3.000000   \n",
       "75%                24.000000              2.000000           5.000000   \n",
       "max                31.000000             19.000000          50.000000   \n",
       "\n",
       "             Adults      Children        Babies  IsRepeatedGuest  \\\n",
       "count  40060.000000  40060.000000  40060.000000     40060.000000   \n",
       "mean       1.867149      0.128682      0.013904         0.044383   \n",
       "std        0.697285      0.445195      0.118998         0.205948   \n",
       "min        0.000000      0.000000      0.000000         0.000000   \n",
       "25%        2.000000      0.000000      0.000000         0.000000   \n",
       "50%        2.000000      0.000000      0.000000         0.000000   \n",
       "75%        2.000000      0.000000      0.000000         0.000000   \n",
       "max       55.000000     10.000000      2.000000         1.000000   \n",
       "\n",
       "       PreviousCancellations  PreviousBookingsNotCanceled  BookingChanges  \\\n",
       "count           40060.000000                 40060.000000    40060.000000   \n",
       "mean                0.101722                     0.146455        0.287968   \n",
       "std                 1.335115                     1.001955        0.726548   \n",
       "min                 0.000000                     0.000000        0.000000   \n",
       "25%                 0.000000                     0.000000        0.000000   \n",
       "50%                 0.000000                     0.000000        0.000000   \n",
       "75%                 0.000000                     0.000000        0.000000   \n",
       "max                26.000000                    30.000000       17.000000   \n",
       "\n",
       "       DaysInWaitingList           ADR  RequiredCarParkingSpaces  \\\n",
       "count       40060.000000  40060.000000              40060.000000   \n",
       "mean            0.527758     94.952930                  0.138068   \n",
       "std             7.428580     61.442418                  0.351001   \n",
       "min             0.000000     -6.380000                  0.000000   \n",
       "25%             0.000000     50.000000                  0.000000   \n",
       "50%             0.000000     75.000000                  0.000000   \n",
       "75%             0.000000    125.000000                  0.000000   \n",
       "max           185.000000    508.000000                  8.000000   \n",
       "\n",
       "       TotalOfSpecialRequests  \n",
       "count             40060.00000  \n",
       "mean                  0.61977  \n",
       "std                   0.81393  \n",
       "min                   0.00000  \n",
       "25%                   0.00000  \n",
       "50%                   0.00000  \n",
       "75%                   1.00000  \n",
       "max                   5.00000  "
      ]
     },
     "execution_count": 160,
     "metadata": {},
     "output_type": "execute_result"
    }
   ],
   "source": [
    "## Descriptive statistics\n",
    "d.describe()"
   ]
  },
  {
   "cell_type": "markdown",
   "metadata": {},
   "source": [
    "## Data Preprocess"
   ]
  },
  {
   "cell_type": "code",
   "execution_count": 161,
   "metadata": {},
   "outputs": [],
   "source": [
    "## Replace month name with a value\n",
    "month = {'January':1, 'February':2, 'March':3, 'April':4, 'May':5, 'June':6,'July':7, \n",
    "         'August':8, 'September':9, 'October':10, 'November':11, 'December':12} \n",
    "d['ArrivalDateMonth'] = [month[item] for item in d['ArrivalDateMonth']]"
   ]
  },
  {
   "cell_type": "code",
   "execution_count": 162,
   "metadata": {},
   "outputs": [],
   "source": [
    "## Catagorial variables need to replaced with dummy columns\n",
    "Meal = {'BB       ':\"Meal_BB\", 'FB       ':\"Meal_BB\", 'HB       ':\"Meal_HB\", 'SC       ':\"Meal_SC\", 'Undefined':\"Meal_Undefined\"} \n",
    "d['Meal'] = [Meal[item] for item in d['Meal']]\n",
    "\n",
    "dummy_meal = pd.get_dummies(d['Meal'])\n",
    "d = d.merge(dummy_meal, left_index = True, right_index = True)"
   ]
  },
  {
   "cell_type": "code",
   "execution_count": 163,
   "metadata": {},
   "outputs": [],
   "source": [
    "CustomerType = {'Transient':\"CustomerType_Transient\", 'Contract':\"CustomerType_Contract\", 'Transient-Party':\"CustomerType_Transient\", 'Group':\"CustomerType_Group\"} \n",
    "d['CustomerType'] = [CustomerType[item] for item in d['CustomerType']]\n",
    "\n",
    "dummy_CustomerType = pd.get_dummies(d['CustomerType'])\n",
    "d = d.merge(dummy_CustomerType, left_index = True, right_index = True)"
   ]
  },
  {
   "cell_type": "code",
   "execution_count": 164,
   "metadata": {},
   "outputs": [],
   "source": [
    "DepositType = {'No Deposit     ':\"DepositType_NoDeposit\", 'Refundable     ':\"DepositType_Refundable\", 'Non Refund     ':\"DepositType_NonRegund\"} \n",
    "d['DepositType'] = [DepositType[item] for item in d['DepositType']]\n",
    "\n",
    "dummy_DepositType = pd.get_dummies(d['DepositType'])\n",
    "d = d.merge(dummy_DepositType, left_index = True, right_index = True)"
   ]
  },
  {
   "cell_type": "code",
   "execution_count": 165,
   "metadata": {},
   "outputs": [
    {
     "data": {
      "text/html": [
       "<div>\n",
       "<style scoped>\n",
       "    .dataframe tbody tr th:only-of-type {\n",
       "        vertical-align: middle;\n",
       "    }\n",
       "\n",
       "    .dataframe tbody tr th {\n",
       "        vertical-align: top;\n",
       "    }\n",
       "\n",
       "    .dataframe thead th {\n",
       "        text-align: right;\n",
       "    }\n",
       "</style>\n",
       "<table border=\"1\" class=\"dataframe\">\n",
       "  <thead>\n",
       "    <tr style=\"text-align: right;\">\n",
       "      <th></th>\n",
       "      <th>IsCanceled</th>\n",
       "      <th>LeadTime</th>\n",
       "      <th>ArrivalDateYear</th>\n",
       "      <th>ArrivalDateMonth</th>\n",
       "      <th>ArrivalDateWeekNumber</th>\n",
       "      <th>ArrivalDateDayOfMonth</th>\n",
       "      <th>StaysInWeekendNights</th>\n",
       "      <th>StaysInWeekNights</th>\n",
       "      <th>Adults</th>\n",
       "      <th>Children</th>\n",
       "      <th>...</th>\n",
       "      <th>Meal_BB</th>\n",
       "      <th>Meal_HB</th>\n",
       "      <th>Meal_SC</th>\n",
       "      <th>Meal_Undefined</th>\n",
       "      <th>CustomerType_Contract</th>\n",
       "      <th>CustomerType_Group</th>\n",
       "      <th>CustomerType_Transient</th>\n",
       "      <th>DepositType_NoDeposit</th>\n",
       "      <th>DepositType_NonRegund</th>\n",
       "      <th>DepositType_Refundable</th>\n",
       "    </tr>\n",
       "  </thead>\n",
       "  <tbody>\n",
       "    <tr>\n",
       "      <td>0</td>\n",
       "      <td>0</td>\n",
       "      <td>342</td>\n",
       "      <td>2015</td>\n",
       "      <td>7</td>\n",
       "      <td>27</td>\n",
       "      <td>1</td>\n",
       "      <td>0</td>\n",
       "      <td>0</td>\n",
       "      <td>2</td>\n",
       "      <td>0</td>\n",
       "      <td>...</td>\n",
       "      <td>1</td>\n",
       "      <td>0</td>\n",
       "      <td>0</td>\n",
       "      <td>0</td>\n",
       "      <td>0</td>\n",
       "      <td>0</td>\n",
       "      <td>1</td>\n",
       "      <td>1</td>\n",
       "      <td>0</td>\n",
       "      <td>0</td>\n",
       "    </tr>\n",
       "    <tr>\n",
       "      <td>1</td>\n",
       "      <td>0</td>\n",
       "      <td>737</td>\n",
       "      <td>2015</td>\n",
       "      <td>7</td>\n",
       "      <td>27</td>\n",
       "      <td>1</td>\n",
       "      <td>0</td>\n",
       "      <td>0</td>\n",
       "      <td>2</td>\n",
       "      <td>0</td>\n",
       "      <td>...</td>\n",
       "      <td>1</td>\n",
       "      <td>0</td>\n",
       "      <td>0</td>\n",
       "      <td>0</td>\n",
       "      <td>0</td>\n",
       "      <td>0</td>\n",
       "      <td>1</td>\n",
       "      <td>1</td>\n",
       "      <td>0</td>\n",
       "      <td>0</td>\n",
       "    </tr>\n",
       "    <tr>\n",
       "      <td>2</td>\n",
       "      <td>0</td>\n",
       "      <td>7</td>\n",
       "      <td>2015</td>\n",
       "      <td>7</td>\n",
       "      <td>27</td>\n",
       "      <td>1</td>\n",
       "      <td>0</td>\n",
       "      <td>1</td>\n",
       "      <td>1</td>\n",
       "      <td>0</td>\n",
       "      <td>...</td>\n",
       "      <td>1</td>\n",
       "      <td>0</td>\n",
       "      <td>0</td>\n",
       "      <td>0</td>\n",
       "      <td>0</td>\n",
       "      <td>0</td>\n",
       "      <td>1</td>\n",
       "      <td>1</td>\n",
       "      <td>0</td>\n",
       "      <td>0</td>\n",
       "    </tr>\n",
       "    <tr>\n",
       "      <td>3</td>\n",
       "      <td>0</td>\n",
       "      <td>13</td>\n",
       "      <td>2015</td>\n",
       "      <td>7</td>\n",
       "      <td>27</td>\n",
       "      <td>1</td>\n",
       "      <td>0</td>\n",
       "      <td>1</td>\n",
       "      <td>1</td>\n",
       "      <td>0</td>\n",
       "      <td>...</td>\n",
       "      <td>1</td>\n",
       "      <td>0</td>\n",
       "      <td>0</td>\n",
       "      <td>0</td>\n",
       "      <td>0</td>\n",
       "      <td>0</td>\n",
       "      <td>1</td>\n",
       "      <td>1</td>\n",
       "      <td>0</td>\n",
       "      <td>0</td>\n",
       "    </tr>\n",
       "    <tr>\n",
       "      <td>4</td>\n",
       "      <td>0</td>\n",
       "      <td>14</td>\n",
       "      <td>2015</td>\n",
       "      <td>7</td>\n",
       "      <td>27</td>\n",
       "      <td>1</td>\n",
       "      <td>0</td>\n",
       "      <td>2</td>\n",
       "      <td>2</td>\n",
       "      <td>0</td>\n",
       "      <td>...</td>\n",
       "      <td>1</td>\n",
       "      <td>0</td>\n",
       "      <td>0</td>\n",
       "      <td>0</td>\n",
       "      <td>0</td>\n",
       "      <td>0</td>\n",
       "      <td>1</td>\n",
       "      <td>1</td>\n",
       "      <td>0</td>\n",
       "      <td>0</td>\n",
       "    </tr>\n",
       "  </tbody>\n",
       "</table>\n",
       "<p>5 rows × 41 columns</p>\n",
       "</div>"
      ],
      "text/plain": [
       "   IsCanceled  LeadTime  ArrivalDateYear  ArrivalDateMonth  \\\n",
       "0           0       342             2015                 7   \n",
       "1           0       737             2015                 7   \n",
       "2           0         7             2015                 7   \n",
       "3           0        13             2015                 7   \n",
       "4           0        14             2015                 7   \n",
       "\n",
       "   ArrivalDateWeekNumber  ArrivalDateDayOfMonth  StaysInWeekendNights  \\\n",
       "0                     27                      1                     0   \n",
       "1                     27                      1                     0   \n",
       "2                     27                      1                     0   \n",
       "3                     27                      1                     0   \n",
       "4                     27                      1                     0   \n",
       "\n",
       "   StaysInWeekNights  Adults  Children  ...  Meal_BB Meal_HB Meal_SC  \\\n",
       "0                  0       2         0  ...        1       0       0   \n",
       "1                  0       2         0  ...        1       0       0   \n",
       "2                  1       1         0  ...        1       0       0   \n",
       "3                  1       1         0  ...        1       0       0   \n",
       "4                  2       2         0  ...        1       0       0   \n",
       "\n",
       "  Meal_Undefined CustomerType_Contract  CustomerType_Group  \\\n",
       "0              0                     0                   0   \n",
       "1              0                     0                   0   \n",
       "2              0                     0                   0   \n",
       "3              0                     0                   0   \n",
       "4              0                     0                   0   \n",
       "\n",
       "   CustomerType_Transient  DepositType_NoDeposit DepositType_NonRegund  \\\n",
       "0                       1                      1                     0   \n",
       "1                       1                      1                     0   \n",
       "2                       1                      1                     0   \n",
       "3                       1                      1                     0   \n",
       "4                       1                      1                     0   \n",
       "\n",
       "  DepositType_Refundable  \n",
       "0                      0  \n",
       "1                      0  \n",
       "2                      0  \n",
       "3                      0  \n",
       "4                      0  \n",
       "\n",
       "[5 rows x 41 columns]"
      ]
     },
     "execution_count": 165,
     "metadata": {},
     "output_type": "execute_result"
    }
   ],
   "source": [
    "d.head()"
   ]
  },
  {
   "cell_type": "code",
   "execution_count": 166,
   "metadata": {},
   "outputs": [],
   "source": [
    "## Some of the variables has NUll value which is replaced with 0 and changed the datatype as int. \n",
    "d[\"Agent\"] = d[\"Agent\"].replace('       NULL', \"0\")\n",
    "d['Agent'] = d['Agent'].astype('int')\n",
    "\n",
    "d[\"Company\"] = d[\"Company\"].replace('       NULL', \"0\")\n",
    "d['Company'] = d['Company'].astype('int')\n",
    "\n",
    "\n",
    "#d['Country']= d['Country'].astype('category')\n",
    "#d['MarketSegment']= d['MarketSegment'].astype('category')\n",
    "#d['DistributionChannel']= d['DistributionChannel'].astype('category')\n",
    "#d['ReservedRoomType']= d['ReservedRoomType'].astype('category')\n",
    "#d['AssignedRoomType']= d['AssignedRoomType'].astype('category')\n",
    "#d['ReservationStatus']= d['ReservationStatus'].astype('category')\n"
   ]
  },
  {
   "cell_type": "markdown",
   "metadata": {},
   "source": [
    "# Data Visualization"
   ]
  },
  {
   "cell_type": "code",
   "execution_count": 167,
   "metadata": {},
   "outputs": [
    {
     "data": {
      "text/plain": [
       "Text(0.5, 1.0, 'Advanced Booking Time and Number of Booking Cancelation')"
      ]
     },
     "execution_count": 167,
     "metadata": {},
     "output_type": "execute_result"
    },
    {
     "data": {
      "image/png": "[encoded data removed]",
      "text/plain": [
       "<Figure size 1080x504 with 1 Axes>"
      ]
     },
     "metadata": {
      "needs_background": "light"
     },
     "output_type": "display_data"
    }
   ],
   "source": [
    "## Let's see a plot of booking cancelation and number of days the booking is made\n",
    "\n",
    "fig, ax = plt.subplots(figsize=(15,7))\n",
    "d.groupby([\"LeadTime\",\"IsCanceled\"]).count()[\"ArrivalDateYear\"].unstack().plot(ax=ax)\n",
    "\n",
    "ax.set_title('Advanced Booking Time and Number of Booking Cancelation')"
   ]
  },
  {
   "cell_type": "markdown",
   "metadata": {},
   "source": [
    "The plot shows that the there is less chance of booking cancelation if the booking is done more than year ago of the trip. The probability increase with the decrease of time. "
   ]
  },
  {
   "cell_type": "code",
   "execution_count": 168,
   "metadata": {},
   "outputs": [
    {
     "data": {
      "text/plain": [
       "Text(0.5, 1.0, 'Booking Canceletion Trend with Number of Children')"
      ]
     },
     "execution_count": 168,
     "metadata": {},
     "output_type": "execute_result"
    },
    {
     "data": {
      "image/png": "[encoded data removed]",
      "text/plain": [
       "<Figure size 1440x720 with 1 Axes>"
      ]
     },
     "metadata": {
      "needs_background": "light"
     },
     "output_type": "display_data"
    }
   ],
   "source": [
    "## Number of children and booking status\n",
    "fig, ax = plt.subplots(figsize=(20,10))\n",
    "d.groupby([\"Children\",\"IsCanceled\"]).count()[\"ArrivalDateYear\"].unstack().plot(ax=ax)\n",
    "ax.set_title('Booking Canceletion Trend with Number of Children')"
   ]
  },
  {
   "cell_type": "markdown",
   "metadata": {},
   "source": [
    "The plot shows that there is less chance of cancelation if the travel is companion of more children. "
   ]
  },
  {
   "cell_type": "markdown",
   "metadata": {},
   "source": [
    "## Model Development"
   ]
  },
  {
   "cell_type": "code",
   "execution_count": 169,
   "metadata": {},
   "outputs": [
    {
     "data": {
      "text/plain": [
       "Index(['IsCanceled', 'LeadTime', 'ArrivalDateYear', 'ArrivalDateMonth',\n",
       "       'ArrivalDateWeekNumber', 'ArrivalDateDayOfMonth',\n",
       "       'StaysInWeekendNights', 'StaysInWeekNights', 'Adults', 'Children',\n",
       "       'Babies', 'Meal', 'Country', 'MarketSegment', 'DistributionChannel',\n",
       "       'IsRepeatedGuest', 'PreviousCancellations',\n",
       "       'PreviousBookingsNotCanceled', 'ReservedRoomType', 'AssignedRoomType',\n",
       "       'BookingChanges', 'DepositType', 'Agent', 'Company',\n",
       "       'DaysInWaitingList', 'CustomerType', 'ADR', 'RequiredCarParkingSpaces',\n",
       "       'TotalOfSpecialRequests', 'ReservationStatus', 'ReservationStatusDate',\n",
       "       'Meal_BB', 'Meal_HB', 'Meal_SC', 'Meal_Undefined',\n",
       "       'CustomerType_Contract', 'CustomerType_Group', 'CustomerType_Transient',\n",
       "       'DepositType_NoDeposit', 'DepositType_NonRegund',\n",
       "       'DepositType_Refundable'],\n",
       "      dtype='object')"
      ]
     },
     "execution_count": 169,
     "metadata": {},
     "output_type": "execute_result"
    }
   ],
   "source": [
    "d.columns"
   ]
  },
  {
   "cell_type": "code",
   "execution_count": 170,
   "metadata": {},
   "outputs": [],
   "source": [
    "## Target feature\n",
    "y = d[['IsCanceled']].copy()\n",
    "\n",
    "# Variables\n",
    "features = [ 'LeadTime', 'ArrivalDateYear', 'ArrivalDateMonth',\n",
    "       'ArrivalDateWeekNumber', 'ArrivalDateDayOfMonth',\n",
    "       'StaysInWeekendNights', 'StaysInWeekNights', 'Adults', 'Children',\n",
    "       'Babies',\n",
    "       'IsRepeatedGuest', 'PreviousCancellations',\n",
    "       'PreviousBookingsNotCanceled',\n",
    "       'BookingChanges', 'Agent', 'Company',\n",
    "       'DaysInWaitingList', 'ADR', 'RequiredCarParkingSpaces',\n",
    "       'TotalOfSpecialRequests',\n",
    "       'Meal_BB', 'Meal_HB', 'Meal_SC', 'Meal_Undefined',\n",
    "       'CustomerType_Contract', 'CustomerType_Group', 'CustomerType_Transient',\n",
    "       'DepositType_NoDeposit', 'DepositType_NonRegund',\n",
    "       'DepositType_Refundable']\n",
    "\n",
    "X = d[features].copy()"
   ]
  },
  {
   "cell_type": "code",
   "execution_count": 171,
   "metadata": {},
   "outputs": [],
   "source": [
    "## Split the data into train and test set \n",
    "\n",
    "from sklearn.model_selection import train_test_split\n",
    "X_train, X_test, y_train, y_test = train_test_split(X, y, test_size=0.3, random_state=324)"
   ]
  },
  {
   "cell_type": "markdown",
   "metadata": {},
   "source": [
    "###  Decision Tree"
   ]
  },
  {
   "cell_type": "code",
   "execution_count": 172,
   "metadata": {},
   "outputs": [
    {
     "data": {
      "text/plain": [
       "0.8221001830587452"
      ]
     },
     "execution_count": 172,
     "metadata": {},
     "output_type": "execute_result"
    }
   ],
   "source": [
    "from sklearn.metrics import accuracy_score\n",
    "from sklearn.tree import DecisionTreeClassifier\n",
    "traff_state_classifier = DecisionTreeClassifier()#criterion='gini', min_samples_split=100, min_samples_leaf = 50, splitter='best', max_depth=3, max_leaf_nodes=10, random_state=5,min_impurity_split = 0.3)\n",
    "traff_state_classifier.fit(X_train, y_train)\n",
    "\n",
    "predictions = traff_state_classifier.predict(X_test)\n",
    "accuracy_score(y_true = y_test, y_pred = predictions)"
   ]
  },
  {
   "cell_type": "code",
   "execution_count": 173,
   "metadata": {},
   "outputs": [
    {
     "data": {
      "text/html": [
       "<div>\n",
       "<style scoped>\n",
       "    .dataframe tbody tr th:only-of-type {\n",
       "        vertical-align: middle;\n",
       "    }\n",
       "\n",
       "    .dataframe tbody tr th {\n",
       "        vertical-align: top;\n",
       "    }\n",
       "\n",
       "    .dataframe thead th {\n",
       "        text-align: right;\n",
       "    }\n",
       "</style>\n",
       "<table border=\"1\" class=\"dataframe\">\n",
       "  <thead>\n",
       "    <tr style=\"text-align: right;\">\n",
       "      <th></th>\n",
       "      <th>Pred_0</th>\n",
       "      <th>Pred_1</th>\n",
       "    </tr>\n",
       "  </thead>\n",
       "  <tbody>\n",
       "    <tr>\n",
       "      <td>True_0</td>\n",
       "      <td>7596</td>\n",
       "      <td>1101</td>\n",
       "    </tr>\n",
       "    <tr>\n",
       "      <td>True_1</td>\n",
       "      <td>1037</td>\n",
       "      <td>2284</td>\n",
       "    </tr>\n",
       "  </tbody>\n",
       "</table>\n",
       "</div>"
      ],
      "text/plain": [
       "        Pred_0  Pred_1\n",
       "True_0    7596    1101\n",
       "True_1    1037    2284"
      ]
     },
     "execution_count": 173,
     "metadata": {},
     "output_type": "execute_result"
    }
   ],
   "source": [
    "from sklearn.metrics import confusion_matrix\n",
    "\n",
    "pd.DataFrame(\n",
    "    confusion_matrix(y_test, y_pred = predictions),\n",
    "    columns=['Pred_0', 'Pred_1'],\n",
    "    index=['True_0', 'True_1']\n",
    ")"
   ]
  },
  {
   "cell_type": "code",
   "execution_count": 174,
   "metadata": {},
   "outputs": [
    {
     "data": {
      "text/plain": [
       "(0.7773105193376177, 0.7805746387539381, 0.7789055765444352, None)"
      ]
     },
     "execution_count": 174,
     "metadata": {},
     "output_type": "execute_result"
    }
   ],
   "source": [
    "from sklearn.metrics import precision_recall_fscore_support\n",
    "\n",
    "precision_recall_fscore_support(y_test, predictions, average='macro')"
   ]
  },
  {
   "cell_type": "markdown",
   "metadata": {},
   "source": [
    "### Logistic Regression"
   ]
  },
  {
   "cell_type": "code",
   "execution_count": 175,
   "metadata": {},
   "outputs": [
    {
     "name": "stderr",
     "output_type": "stream",
     "text": [
      "/Users/shahadat/opt/anaconda3/lib/python3.7/site-packages/sklearn/utils/validation.py:724: DataConversionWarning: A column-vector y was passed when a 1d array was expected. Please change the shape of y to (n_samples, ), for example using ravel().\n",
      "  y = column_or_1d(y, warn=True)\n"
     ]
    },
    {
     "name": "stdout",
     "output_type": "stream",
     "text": [
      "Multinomial Logistic regression Train Accuracy :: 0.7948077883175237\n",
      "Multinomial Logistic regression Test Accuracy :: 0.7997170910301215\n"
     ]
    },
    {
     "name": "stderr",
     "output_type": "stream",
     "text": [
      "/Users/shahadat/opt/anaconda3/lib/python3.7/site-packages/sklearn/utils/optimize.py:203: ConvergenceWarning: newton-cg failed to converge. Increase the number of iterations.\n",
      "  \"number of iterations.\", ConvergenceWarning)\n"
     ]
    }
   ],
   "source": [
    "from sklearn import linear_model\n",
    "from sklearn import metrics\n",
    "mul_lr = linear_model.LogisticRegression(multi_class='multinomial', solver='newton-cg').fit(X_train,y_train)\n",
    "y_predml=mul_lr.predict(X_test)\n",
    "\n",
    "print (\"Multinomial Logistic regression Train Accuracy ::\", metrics.accuracy_score(y_train, mul_lr.predict(X_train)))\n",
    "print (\"Multinomial Logistic regression Test Accuracy ::\", metrics.accuracy_score(y_test, mul_lr.predict(X_test)))"
   ]
  },
  {
   "cell_type": "code",
   "execution_count": 176,
   "metadata": {},
   "outputs": [
    {
     "data": {
      "text/html": [
       "<div>\n",
       "<style scoped>\n",
       "    .dataframe tbody tr th:only-of-type {\n",
       "        vertical-align: middle;\n",
       "    }\n",
       "\n",
       "    .dataframe tbody tr th {\n",
       "        vertical-align: top;\n",
       "    }\n",
       "\n",
       "    .dataframe thead th {\n",
       "        text-align: right;\n",
       "    }\n",
       "</style>\n",
       "<table border=\"1\" class=\"dataframe\">\n",
       "  <thead>\n",
       "    <tr style=\"text-align: right;\">\n",
       "      <th></th>\n",
       "      <th>Pred_0</th>\n",
       "      <th>Pred_1</th>\n",
       "    </tr>\n",
       "  </thead>\n",
       "  <tbody>\n",
       "    <tr>\n",
       "      <td>True_0</td>\n",
       "      <td>7596</td>\n",
       "      <td>1101</td>\n",
       "    </tr>\n",
       "    <tr>\n",
       "      <td>True_1</td>\n",
       "      <td>1037</td>\n",
       "      <td>2284</td>\n",
       "    </tr>\n",
       "  </tbody>\n",
       "</table>\n",
       "</div>"
      ],
      "text/plain": [
       "        Pred_0  Pred_1\n",
       "True_0    7596    1101\n",
       "True_1    1037    2284"
      ]
     },
     "execution_count": 176,
     "metadata": {},
     "output_type": "execute_result"
    }
   ],
   "source": [
    "from sklearn.metrics import confusion_matrix\n",
    "\n",
    "pd.DataFrame(\n",
    "    confusion_matrix(y_test, y_pred = predictions),\n",
    "    columns=['Pred_0', 'Pred_1'],\n",
    "    index=['True_0', 'True_1']\n",
    ")"
   ]
  },
  {
   "cell_type": "code",
   "execution_count": 177,
   "metadata": {},
   "outputs": [
    {
     "data": {
      "text/plain": [
       "(0.7773105193376177, 0.7805746387539381, 0.7789055765444352, None)"
      ]
     },
     "execution_count": 177,
     "metadata": {},
     "output_type": "execute_result"
    }
   ],
   "source": [
    "from sklearn.metrics import precision_recall_fscore_support\n",
    "\n",
    "precision_recall_fscore_support(y_test, predictions, average='macro')"
   ]
  },
  {
   "cell_type": "code",
   "execution_count": null,
   "metadata": {},
   "outputs": [],
   "source": []
  }
 ],
 "metadata": {
  "kernelspec": {
   "display_name": "Python 3",
   "language": "python",
   "name": "python3"
  },
  "language_info": {
   "codemirror_mode": {
    "name": "ipython",
    "version": 3
   },
   "file_extension": ".py",
   "mimetype": "text/x-python",
   "name": "python",
   "nbconvert_exporter": "python",
   "pygments_lexer": "ipython3",
   "version": "3.7.4"
  }
 },
 "nbformat": 4,
 "nbformat_minor": 2
}
